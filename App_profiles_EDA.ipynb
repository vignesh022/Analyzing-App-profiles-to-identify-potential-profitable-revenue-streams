{
 "cells": [
  {
   "cell_type": "markdown",
   "metadata": {},
   "source": [
    "# Analyzing Mobile Apps to identify potential factors that can used to increase subscriber growth\n",
    "\n",
    "* Dataset description\n",
    "* The dataset is collection of information on Applications ('Apps') from the Apple Store and Google Play Store for iPhones and Android phones resp.\n",
    "* Detailed information regarding the individual datasets and download links can be found at the following. \n",
    "* Apple App Store dataset: [Link](https://www.kaggle.com/ramamet4/app-store-apple-data-set-10k-apps/home)\n",
    "* Google Play Store dataset: [Link](https://www.kaggle.com/lava18/google-play-store-apps/home)\n",
    "\n",
    "Apple App Store Variable description:\n",
    "\n",
    "| Column Name      | Description |\n",
    "| ----------- | -----------      |\n",
    "| \"id\"        | App ID           |\n",
    "|\"track_name\" | App Name         |\n",
    "|\"size_bytes\" | Size (in Bytes)  |\n",
    "|\"currency\"   | Currency Type    |\n",
    "|\"price\"      | Price amount     |\n",
    "|\"rating_count_tot\"  | User Rating counts (for all version) |\n",
    "|\"rating_count_ver\"  | User Rating counts (for current version) |\n",
    "|\"user_rating\"       | Average User Rating value (for all version) |\n",
    "|\"user_rating_ver\"   | Average User Rating value (for current version) |\n",
    "|\"ver\"          | Latest version code | \n",
    "|\"cont_rating\"  | Content Rating |\n",
    "|\"prime_genre\"  | Primary Genre |\n",
    "|\"sup_devices.num\"   | Number of supporting devices |\n",
    "|\"ipadSc_urls.num\"   | Number of screenshots showed for display |\n",
    "|\"lang.num\"     | Number of supported languages |\n",
    "|\"vpp_lic\"      | Vpp Device Based Licensing Enabled |\n",
    "\n",
    "Google Play Store Variable description:\n",
    "\n",
    "| Column Name      | Description |\n",
    "| ----------- | -----------      |\n",
    "|\"App\" | Application name |\n",
    "|\"Category\" | Category the app belongs to |\n",
    "|\"Rating\" | Overall user rating of the app (as when scraped) |\n",
    "|\"Reviews\" | Number of user reviews for the app (as when scraped) |\n",
    "|\"Size\" | Size of the app (as when scraped) |\n",
    "|\"Installs\" | Number of user downloads/installs for the app (as when scraped) |\n",
    "|\"Type\" | Paid or Free |\n",
    "|\"Price\" | Price of the app (as when scraped) |\n",
    "|\"Content Rating\" | Age group the app is targeted at - Children / Mature 21+ / Adult |\n",
    "|\"Genres\" | An app can belong to multiple genres (apart from its main category). For eg, a musical family game will belong to Music, Game, Family genres. |\n",
    "|\"Last Updated\" | Date when the app was last updated on Play Store (as when scraped) |\n",
    "|\"Current Ver\" | Current version of the app available on Play Store (as when scraped) |\n",
    "|\"Android Ver\" | Min required Android version (as when scraped) |"
   ]
  },
  {
   "cell_type": "markdown",
   "metadata": {},
   "source": [
    "# Exploration of both datasets\n",
    "\n",
    "* Using the a user defined function we explore both sets of data and take a peek at the structure of the data"
   ]
  },
  {
   "cell_type": "code",
   "execution_count": 1,
   "metadata": {
    "collapsed": true
   },
   "outputs": [],
   "source": [
    "from csv import reader\n",
    "file1 = open('AppleStore.csv')\n",
    "file2 = open('googleplaystore.csv')\n",
    "ios = reader(file1)\n",
    "play = reader(file2)\n",
    "ios_store = list(ios)\n",
    "play_store = list(play)"
   ]
  },
  {
   "cell_type": "code",
   "execution_count": 2,
   "metadata": {
    "collapsed": true
   },
   "outputs": [],
   "source": [
    "def explore_data(dataset, start, end, header=True, rows_and_columns=False):\n",
    "    if header:\n",
    "        data_set = dataset[1:]\n",
    "    \n",
    "    dataset_slice = data_set[(start-1):end]\n",
    "            \n",
    "    for row in dataset_slice:\n",
    "        print(row)\n",
    "        print('\\n') # adds a new (empty) line after each row\n",
    "\n",
    "    if rows_and_columns:\n",
    "        print('Number of rows:', len(data_set))\n",
    "        print('Number of columns:', len(dataset[0]))"
   ]
  },
  {
   "cell_type": "code",
   "execution_count": 3,
   "metadata": {
    "collapsed": false
   },
   "outputs": [
    {
     "name": "stdout",
     "output_type": "stream",
     "text": [
      "Apple Store App details: \n",
      "\n",
      "['284882215', 'Facebook', '389879808', 'USD', '0.0', '2974676', '212', '3.5', '3.5', '95.0', '4+', 'Social Networking', '37', '1', '29', '1']\n",
      "\n",
      "\n",
      "['389801252', 'Instagram', '113954816', 'USD', '0.0', '2161558', '1289', '4.5', '4.0', '10.23', '12+', 'Photo & Video', '37', '0', '29', '1']\n",
      "\n",
      "\n",
      "['529479190', 'Clash of Clans', '116476928', 'USD', '0.0', '2130805', '579', '4.5', '4.5', '9.24.12', '9+', 'Games', '38', '5', '18', '1']\n",
      "\n",
      "\n",
      "['420009108', 'Temple Run', '65921024', 'USD', '0.0', '1724546', '3842', '4.5', '4.0', '1.6.2', '9+', 'Games', '40', '5', '1', '1']\n",
      "\n",
      "\n",
      "['284035177', 'Pandora - Music & Radio', '130242560', 'USD', '0.0', '1126879', '3594', '4.0', '4.5', '8.4.1', '12+', 'Music', '37', '4', '1', '1']\n",
      "\n",
      "\n",
      "Number of rows: 7197\n",
      "Number of columns: 16\n",
      "\n",
      "\n",
      "Google Play Store App details: \n",
      "\n",
      "['Photo Editor & Candy Camera & Grid & ScrapBook', 'ART_AND_DESIGN', '4.1', '159', '19M', '10,000+', 'Free', '0', 'Everyone', 'Art & Design', 'January 7, 2018', '1.0.0', '4.0.3 and up']\n",
      "\n",
      "\n",
      "['Coloring book moana', 'ART_AND_DESIGN', '3.9', '967', '14M', '500,000+', 'Free', '0', 'Everyone', 'Art & Design;Pretend Play', 'January 15, 2018', '2.0.0', '4.0.3 and up']\n",
      "\n",
      "\n",
      "['U Launcher Lite – FREE Live Cool Themes, Hide Apps', 'ART_AND_DESIGN', '4.7', '87510', '8.7M', '5,000,000+', 'Free', '0', 'Everyone', 'Art & Design', 'August 1, 2018', '1.2.4', '4.0.3 and up']\n",
      "\n",
      "\n",
      "['Sketch - Draw & Paint', 'ART_AND_DESIGN', '4.5', '215644', '25M', '50,000,000+', 'Free', '0', 'Teen', 'Art & Design', 'June 8, 2018', 'Varies with device', '4.2 and up']\n",
      "\n",
      "\n",
      "['Pixel Draw - Number Art Coloring Book', 'ART_AND_DESIGN', '4.3', '967', '2.8M', '100,000+', 'Free', '0', 'Everyone', 'Art & Design;Creativity', 'June 20, 2018', '1.1', '4.4 and up']\n",
      "\n",
      "\n",
      "Number of rows: 10841\n",
      "Number of columns: 13\n",
      "\n",
      "\n",
      "['App', 'Category', 'Rating', 'Reviews', 'Size', 'Installs', 'Type', 'Price', 'Content Rating', 'Genres', 'Last Updated', 'Current Ver', 'Android Ver']\n"
     ]
    }
   ],
   "source": [
    "print('Apple Store App details: \\n')\n",
    "explore_data(ios_store, 1, 5, True, True)\n",
    "print('\\n')\n",
    "print('Google Play Store App details: \\n')\n",
    "explore_data(play_store, 1, 5, True, True)\n",
    "print('\\n')\n",
    "\n",
    "print(play_store[0])"
   ]
  },
  {
   "cell_type": "markdown",
   "metadata": {},
   "source": [
    "# Removing erroneous data and identifying duplicate data entries \n",
    "\n",
    "* Most data that has been scraped from multiple sources tends to contain some degree of mistakes.\n",
    "* Mistakes could be erroneous data entries or duplicates.\n",
    "* Cleaning/Purging the dataset of these entries to facilitate better analysis of the data is a crucial part of the process\n",
    "* Deleting duplicate entries cannnot be done radomnly. Ideally, we retain the latest/most recent version of the app in our dataset. We can establish some rule to assist in its determination."
   ]
  },
  {
   "cell_type": "markdown",
   "metadata": {},
   "source": [
    "## Part 1 - Removing incorrect entries"
   ]
  },
  {
   "cell_type": "code",
   "execution_count": 4,
   "metadata": {
    "collapsed": false
   },
   "outputs": [
    {
     "name": "stdout",
     "output_type": "stream",
     "text": [
      "['Life Made WI-Fi Touchscreen Photo Frame', '1.9', '19', '3.0M', '1,000+', 'Free', '0', 'Everyone', '', 'February 11, 2018', '1.0.19', '4.0 and up']\n",
      "10842 \n",
      "\n",
      "10841\n"
     ]
    }
   ],
   "source": [
    "# The Google Play Store data contained 1 data entry that is out of place. The index of said entry is 10473\n",
    "print(play_store[10473])\n",
    "print(len(play_store),'\\n')\n",
    "# Deleting Error index\n",
    "del play_store[10473]\n",
    "# Check length to see index has been deleted\n",
    "print(len(play_store))\n"
   ]
  },
  {
   "cell_type": "markdown",
   "metadata": {},
   "source": [
    "## Part 2 - Checking for duplicate entries"
   ]
  },
  {
   "cell_type": "code",
   "execution_count": 5,
   "metadata": {
    "collapsed": true
   },
   "outputs": [],
   "source": [
    "# This user defined function allows us to estimate the nubmer of duplicate entries\n",
    "def duplicate(dataset, header=True):\n",
    "    if header:\n",
    "        data_set = dataset[1:]\n",
    "    \n",
    "    duplicate_apps = []\n",
    "    unique_apps = []\n",
    "    \n",
    "    for row in data_set:\n",
    "        name = row[0]\n",
    "        if name in unique_apps:\n",
    "            duplicate_apps.append(name)\n",
    "        else:\n",
    "            unique_apps.append(name)\n",
    "    \n",
    "    return unique_apps, duplicate_apps"
   ]
  },
  {
   "cell_type": "code",
   "execution_count": 6,
   "metadata": {
    "collapsed": false
   },
   "outputs": [
    {
     "name": "stdout",
     "output_type": "stream",
     "text": [
      "Number of unique apps in the Apple Store: 7197 \n",
      "\n",
      "Number of duplicate apps in the Apple Store: 0 \n",
      "\n",
      "Number of unique apps in the Google Play Store: 9659 \n",
      "\n",
      "Number of duplicate apps in the Google Play Store: 1181 \n",
      "\n"
     ]
    }
   ],
   "source": [
    "ios_unique, ios_duplicate = duplicate(ios_store, True)\n",
    "play_unique, play_duplicate = duplicate(play_store, True)\n",
    "\n",
    "print('Number of unique apps in the Apple Store:', len(ios_unique), '\\n')\n",
    "print('Number of duplicate apps in the Apple Store:', len(ios_duplicate), '\\n')\n",
    "\n",
    "print('Number of unique apps in the Google Play Store:', len(play_unique), '\\n')\n",
    "print('Number of duplicate apps in the Google Play Store:', len(play_duplicate), '\\n')"
   ]
  },
  {
   "cell_type": "markdown",
   "metadata": {},
   "source": [
    "## Part 3 - Removing duplicate entries\n",
    "\n",
    "* To identify which duplicate iterations of an app must be deleted, we use the \"number of reviews\" variable. \n",
    "* The number of reviews received by an app can be used as an identifier to distinguish between multiple entries for the same app.\n",
    "* We only the store the data entry for a given app with the highest number of user reviews.\n",
    "* The following code blocks output a cleaned version of our original dataset."
   ]
  },
  {
   "cell_type": "code",
   "execution_count": 7,
   "metadata": {
    "collapsed": false
   },
   "outputs": [],
   "source": [
    "reviews_max = {}\n",
    "\n",
    "for row in play_store[1:]:\n",
    "    name = row[0]\n",
    "    n_reviews = float(row[3])\n",
    "    if (name in reviews_max) and (reviews_max[name] < n_reviews):\n",
    "        reviews_max[name] = n_reviews\n",
    "    if (name not in reviews_max):\n",
    "        reviews_max[name] = n_reviews\n",
    "        \n",
    "#print('\\n', len(reviews_max))        "
   ]
  },
  {
   "cell_type": "code",
   "execution_count": 8,
   "metadata": {
    "collapsed": false
   },
   "outputs": [],
   "source": [
    "android_clean = []\n",
    "already_added = []\n",
    "\n",
    "for row in play_store[1:]:\n",
    "    name = row[0]\n",
    "    n_reviews = float(row[3])\n",
    "    \n",
    "    if (n_reviews == reviews_max[name]) and (name not in already_added):\n",
    "        android_clean.append(row)\n",
    "        already_added.append(name)\n",
    "        \n",
    "#print('\\n', len(android_clean))"
   ]
  },
  {
   "cell_type": "markdown",
   "metadata": {},
   "source": [
    "# Removing Non-English Apps from the cleaned dataset\n",
    "\n",
    "* Some of the apps in the cleaned dataset are targeted towards a non-english speaking audience and hence are not of interest to our analysis.\n",
    "* We can eliminate these apps from our dataset using the ASCII code designation for their characters."
   ]
  },
  {
   "cell_type": "code",
   "execution_count": 9,
   "metadata": {
    "collapsed": false
   },
   "outputs": [],
   "source": [
    "def english_android(dataset, header=True):\n",
    "    if header:\n",
    "        data_set = dataset[1:]\n",
    "    else:\n",
    "        data_set = dataset\n",
    "    english_apps = []\n",
    "    \n",
    "    for row in data_set:\n",
    "        name = row[0]\n",
    "        flag = 0\n",
    "        for char in name:\n",
    "            if(ord(char) > 127):\n",
    "                flag += 1\n",
    "        if(flag<=3):\n",
    "            english_apps.append(row)\n",
    "    \n",
    "    return english_apps   \n",
    "\n",
    "def english_ios(dataset, header=True):\n",
    "    if header:\n",
    "        data_set = dataset[1:]\n",
    "    else:\n",
    "        data_set = dataset\n",
    "    english_apps = []\n",
    "    \n",
    "    for row in data_set:\n",
    "        name = row[1]\n",
    "        flag = 0\n",
    "        for char in name:\n",
    "            if(ord(char) > 127):\n",
    "                flag += 1\n",
    "        if(flag<=3):\n",
    "            english_apps.append(row)\n",
    "    \n",
    "    return english_apps   "
   ]
  },
  {
   "cell_type": "code",
   "execution_count": 10,
   "metadata": {
    "collapsed": false,
    "scrolled": true
   },
   "outputs": [],
   "source": [
    "ios_english = english_ios(ios_store)\n",
    "play_english = english_android(android_clean, False)\n",
    "\n",
    "#print('\\n',len(ios_english))\n",
    "#print('\\n',len(play_english))"
   ]
  },
  {
   "cell_type": "markdown",
   "metadata": {},
   "source": [
    "# Selecting only the free to use/download apps from the dataset\n",
    "\n",
    "* Not all apps available in the Apple app store and Google play store are free.\n",
    "* We can eliminate paid apps from our dataset using the price variable."
   ]
  },
  {
   "cell_type": "code",
   "execution_count": 11,
   "metadata": {
    "collapsed": true
   },
   "outputs": [],
   "source": [
    "def free_android(dataset):\n",
    "    free_apps = []\n",
    "    \n",
    "    for row in dataset:\n",
    "        price = row[7]\n",
    "        if(price == '0') or (price == 'Free'):\n",
    "            free_apps.append(row)\n",
    "    \n",
    "    return free_apps   \n",
    "\n",
    "def free_ios(dataset):\n",
    "    free_apps = []\n",
    "    \n",
    "    for row in dataset:\n",
    "        price = row[4]\n",
    "        if(price == '0.0') or (price == 'Free'):\n",
    "            free_apps.append(row)\n",
    "    \n",
    "    return free_apps\n"
   ]
  },
  {
   "cell_type": "code",
   "execution_count": 12,
   "metadata": {
    "collapsed": false
   },
   "outputs": [],
   "source": [
    "ios_free = free_ios(ios_english)\n",
    "play_free = free_android(play_english)\n",
    "\n",
    "#print('\\n',len(ios_free))\n",
    "#print('\\n',len(play_free))  "
   ]
  },
  {
   "cell_type": "markdown",
   "metadata": {},
   "source": [
    "# Identifying apps that can be released in iOS and Android environments to maximize revenue\n",
    "\n",
    "* The aim is to determine the kinds of apps that are likely to attract more users because app based revenue is highly influenced by the number of people using them.\n",
    "\n",
    "* Typically the life cycle of an app that has been development are:\n",
    "\n",
    "    * Build a minimal Android version of the app, and add it to Google Play.\n",
    "    * If the app has a good response from users, it is further developed.\n",
    "    * If the app is profitable after six months, we build an iOS version of the app and add it to the App Store.\n",
    "\n",
    "* The end goal is to add the app on both Google Play and the App Store, we need to find app profiles that are/can be successful on both markets. For instance, a profile that works well for both markets might be a productivity app that makes use of gamification."
   ]
  },
  {
   "cell_type": "code",
   "execution_count": 13,
   "metadata": {
    "collapsed": true
   },
   "outputs": [],
   "source": [
    "def freq_table(dataset, index):\n",
    "    freq = {}\n",
    "    table = {}\n",
    "    for row in dataset:\n",
    "        genre = row[index]\n",
    "        if genre in freq:\n",
    "            freq[genre] += 1\n",
    "        else:\n",
    "            freq[genre] = 1\n",
    "    \n",
    "    for key in freq:\n",
    "        table[key] = (freq[key]/len(dataset))*100\n",
    "        \n",
    "    return table\n",
    "    \n",
    "def display_table(dataset, index):\n",
    "    table = freq_table(dataset, index)\n",
    "    table_display = []\n",
    "    for key in table:\n",
    "        key_val_as_tuple = (table[key], key)\n",
    "        table_display.append(key_val_as_tuple)\n",
    "\n",
    "    table_sorted = sorted(table_display, reverse = True)\n",
    "    for entry in table_sorted:\n",
    "        print(entry[1], ':', entry[0])"
   ]
  },
  {
   "cell_type": "code",
   "execution_count": 14,
   "metadata": {
    "collapsed": false
   },
   "outputs": [
    {
     "name": "stdout",
     "output_type": "stream",
     "text": [
      "iOS app genres:\n",
      "\n",
      "Games : 58.16263190564867\n",
      "Entertainment : 7.883302296710118\n",
      "Photo & Video : 4.9658597144630665\n",
      "Education : 3.662321539416512\n",
      "Social Networking : 3.2898820608317814\n",
      "Shopping : 2.60707635009311\n",
      "Utilities : 2.5139664804469275\n",
      "Sports : 2.1415270018621975\n",
      "Music : 2.0484171322160147\n",
      "Health & Fitness : 2.0173805090006205\n",
      "Productivity : 1.7380509000620732\n",
      "Lifestyle : 1.5828677839851024\n",
      "News : 1.3345747982619491\n",
      "Travel : 1.2414649286157666\n",
      "Finance : 1.1173184357541899\n",
      "Weather : 0.8690254500310366\n",
      "Food & Drink : 0.8069522036002483\n",
      "Reference : 0.5586592178770949\n",
      "Business : 0.5276225946617008\n",
      "Book : 0.4345127250155183\n",
      "Navigation : 0.186219739292365\n",
      "Medical : 0.186219739292365\n",
      "Catalogs : 0.12414649286157665\n",
      "\n",
      "\n",
      "Android app categories: \n",
      "\n",
      "FAMILY : 18.907942238267147\n",
      "GAME : 9.724729241877256\n",
      "TOOLS : 8.461191335740072\n",
      "BUSINESS : 4.591606498194946\n",
      "LIFESTYLE : 3.9034296028880866\n",
      "PRODUCTIVITY : 3.892148014440433\n",
      "FINANCE : 3.7003610108303246\n",
      "MEDICAL : 3.531137184115524\n",
      "SPORTS : 3.395758122743682\n",
      "PERSONALIZATION : 3.3167870036101084\n",
      "COMMUNICATION : 3.2378158844765346\n",
      "HEALTH_AND_FITNESS : 3.0798736462093865\n",
      "PHOTOGRAPHY : 2.944494584837545\n",
      "NEWS_AND_MAGAZINES : 2.7978339350180503\n",
      "SOCIAL : 2.6624548736462095\n",
      "TRAVEL_AND_LOCAL : 2.33528880866426\n",
      "SHOPPING : 2.2450361010830324\n",
      "BOOKS_AND_REFERENCE : 2.1435018050541514\n",
      "DATING : 1.861462093862816\n",
      "VIDEO_PLAYERS : 1.7937725631768955\n",
      "MAPS_AND_NAVIGATION : 1.3989169675090252\n",
      "FOOD_AND_DRINK : 1.2409747292418771\n",
      "EDUCATION : 1.1620036101083033\n",
      "ENTERTAINMENT : 0.9589350180505415\n",
      "LIBRARIES_AND_DEMO : 0.9363718411552346\n",
      "AUTO_AND_VEHICLES : 0.9250902527075812\n",
      "HOUSE_AND_HOME : 0.8235559566787004\n",
      "WEATHER : 0.8009927797833934\n",
      "EVENTS : 0.7107400722021661\n",
      "PARENTING : 0.6543321299638989\n",
      "ART_AND_DESIGN : 0.6430505415162455\n",
      "COMICS : 0.6204873646209386\n",
      "BEAUTY : 0.5979241877256317\n",
      "\n",
      "\n",
      "Android app genres: \n",
      "\n",
      "Tools : 8.449909747292418\n",
      "Entertainment : 6.069494584837545\n",
      "Education : 5.347472924187725\n",
      "Business : 4.591606498194946\n",
      "Productivity : 3.892148014440433\n",
      "Lifestyle : 3.892148014440433\n",
      "Finance : 3.7003610108303246\n",
      "Medical : 3.531137184115524\n",
      "Sports : 3.463447653429603\n",
      "Personalization : 3.3167870036101084\n",
      "Communication : 3.2378158844765346\n",
      "Action : 3.1024368231046933\n",
      "Health & Fitness : 3.0798736462093865\n",
      "Photography : 2.944494584837545\n",
      "News & Magazines : 2.7978339350180503\n",
      "Social : 2.6624548736462095\n",
      "Travel & Local : 2.3240072202166067\n",
      "Shopping : 2.2450361010830324\n",
      "Books & Reference : 2.1435018050541514\n",
      "Simulation : 2.0419675090252705\n",
      "Dating : 1.861462093862816\n",
      "Arcade : 1.8501805054151623\n",
      "Video Players & Editors : 1.7712093862815883\n",
      "Casual : 1.7599277978339352\n",
      "Maps & Navigation : 1.3989169675090252\n",
      "Food & Drink : 1.2409747292418771\n",
      "Puzzle : 1.128158844765343\n",
      "Racing : 0.9927797833935018\n",
      "Role Playing : 0.9363718411552346\n",
      "Libraries & Demo : 0.9363718411552346\n",
      "Auto & Vehicles : 0.9250902527075812\n",
      "Strategy : 0.9138086642599278\n",
      "House & Home : 0.8235559566787004\n",
      "Weather : 0.8009927797833934\n",
      "Events : 0.7107400722021661\n",
      "Adventure : 0.6768953068592057\n",
      "Comics : 0.6092057761732852\n",
      "Beauty : 0.5979241877256317\n",
      "Art & Design : 0.5979241877256317\n",
      "Parenting : 0.4963898916967509\n",
      "Card : 0.45126353790613716\n",
      "Casino : 0.42870036101083037\n",
      "Trivia : 0.41741877256317694\n",
      "Educational;Education : 0.39485559566787\n",
      "Board : 0.3835740072202166\n",
      "Educational : 0.3722924187725632\n",
      "Education;Education : 0.33844765342960287\n",
      "Word : 0.2594765342960289\n",
      "Casual;Pretend Play : 0.236913357400722\n",
      "Music : 0.2030685920577617\n",
      "Racing;Action & Adventure : 0.16922382671480143\n",
      "Puzzle;Brain Games : 0.16922382671480143\n",
      "Entertainment;Music & Video : 0.16922382671480143\n",
      "Casual;Brain Games : 0.13537906137184114\n",
      "Casual;Action & Adventure : 0.13537906137184114\n",
      "Arcade;Action & Adventure : 0.12409747292418773\n",
      "Action;Action & Adventure : 0.10153429602888085\n",
      "Educational;Pretend Play : 0.09025270758122744\n",
      "Simulation;Action & Adventure : 0.078971119133574\n",
      "Parenting;Education : 0.078971119133574\n",
      "Entertainment;Brain Games : 0.078971119133574\n",
      "Board;Brain Games : 0.078971119133574\n",
      "Parenting;Music & Video : 0.06768953068592057\n",
      "Educational;Brain Games : 0.06768953068592057\n",
      "Casual;Creativity : 0.06768953068592057\n",
      "Art & Design;Creativity : 0.06768953068592057\n",
      "Education;Pretend Play : 0.056407942238267145\n",
      "Role Playing;Pretend Play : 0.04512635379061372\n",
      "Education;Creativity : 0.04512635379061372\n",
      "Role Playing;Action & Adventure : 0.033844765342960284\n",
      "Puzzle;Action & Adventure : 0.033844765342960284\n",
      "Entertainment;Creativity : 0.033844765342960284\n",
      "Entertainment;Action & Adventure : 0.033844765342960284\n",
      "Educational;Creativity : 0.033844765342960284\n",
      "Educational;Action & Adventure : 0.033844765342960284\n",
      "Education;Music & Video : 0.033844765342960284\n",
      "Education;Brain Games : 0.033844765342960284\n",
      "Education;Action & Adventure : 0.033844765342960284\n",
      "Adventure;Action & Adventure : 0.033844765342960284\n",
      "Video Players & Editors;Music & Video : 0.02256317689530686\n",
      "Sports;Action & Adventure : 0.02256317689530686\n",
      "Simulation;Pretend Play : 0.02256317689530686\n",
      "Puzzle;Creativity : 0.02256317689530686\n",
      "Music;Music & Video : 0.02256317689530686\n",
      "Entertainment;Pretend Play : 0.02256317689530686\n",
      "Casual;Education : 0.02256317689530686\n",
      "Board;Action & Adventure : 0.02256317689530686\n",
      "Video Players & Editors;Creativity : 0.01128158844765343\n",
      "Trivia;Education : 0.01128158844765343\n",
      "Travel & Local;Action & Adventure : 0.01128158844765343\n",
      "Tools;Education : 0.01128158844765343\n",
      "Strategy;Education : 0.01128158844765343\n",
      "Strategy;Creativity : 0.01128158844765343\n",
      "Strategy;Action & Adventure : 0.01128158844765343\n",
      "Simulation;Education : 0.01128158844765343\n",
      "Role Playing;Brain Games : 0.01128158844765343\n",
      "Racing;Pretend Play : 0.01128158844765343\n",
      "Puzzle;Education : 0.01128158844765343\n",
      "Parenting;Brain Games : 0.01128158844765343\n",
      "Music & Audio;Music & Video : 0.01128158844765343\n",
      "Lifestyle;Pretend Play : 0.01128158844765343\n",
      "Lifestyle;Education : 0.01128158844765343\n",
      "Health & Fitness;Education : 0.01128158844765343\n",
      "Health & Fitness;Action & Adventure : 0.01128158844765343\n",
      "Entertainment;Education : 0.01128158844765343\n",
      "Communication;Creativity : 0.01128158844765343\n",
      "Comics;Creativity : 0.01128158844765343\n",
      "Casual;Music & Video : 0.01128158844765343\n",
      "Card;Action & Adventure : 0.01128158844765343\n",
      "Books & Reference;Education : 0.01128158844765343\n",
      "Art & Design;Pretend Play : 0.01128158844765343\n",
      "Art & Design;Action & Adventure : 0.01128158844765343\n",
      "Arcade;Pretend Play : 0.01128158844765343\n",
      "Adventure;Education : 0.01128158844765343\n",
      "\n",
      "\n"
     ]
    }
   ],
   "source": [
    "print('iOS app genres:\\n')\n",
    "display_table(ios_free, -5)\n",
    "print('\\n')\n",
    "print('Android app categories: \\n')\n",
    "display_table(play_free, 1)\n",
    "print('\\n')\n",
    "print('Android app genres: \\n')\n",
    "display_table(play_free, -4)\n",
    "print('\\n')"
   ]
  },
  {
   "cell_type": "markdown",
   "metadata": {
    "collapsed": true
   },
   "source": [
    "## Part 1 - Apple App Store\n",
    "Looking at the genre of apps installed from the Apple Store we can observe that most of the applications are designed to entertain the customer.\n",
    "\n",
    "To further our analysis we look at the most popular apps in each genre. This should give us a more detailed idea about the preferences of users."
   ]
  },
  {
   "cell_type": "code",
   "execution_count": 15,
   "metadata": {
    "collapsed": false
   },
   "outputs": [
    {
     "name": "stdout",
     "output_type": "stream",
     "text": [
      "App Genre:  Photo & Video  | Average no. of user ratings:  28441.54375\n",
      "App Genre:  Music  | Average no. of user ratings:  57326.530303030304\n",
      "App Genre:  Health & Fitness  | Average no. of user ratings:  23298.015384615384\n",
      "App Genre:  Business  | Average no. of user ratings:  7491.117647058823\n",
      "App Genre:  Lifestyle  | Average no. of user ratings:  16485.764705882353\n",
      "App Genre:  Social Networking  | Average no. of user ratings:  71548.34905660378\n",
      "App Genre:  News  | Average no. of user ratings:  21248.023255813954\n",
      "App Genre:  Travel  | Average no. of user ratings:  28243.8\n",
      "App Genre:  Utilities  | Average no. of user ratings:  18684.456790123455\n",
      "App Genre:  Reference  | Average no. of user ratings:  74942.11111111111\n",
      "App Genre:  Productivity  | Average no. of user ratings:  21028.410714285714\n",
      "App Genre:  Shopping  | Average no. of user ratings:  26919.690476190477\n",
      "App Genre:  Food & Drink  | Average no. of user ratings:  33333.92307692308\n",
      "App Genre:  Navigation  | Average no. of user ratings:  86090.33333333333\n",
      "App Genre:  Education  | Average no. of user ratings:  7003.983050847458\n",
      "App Genre:  Finance  | Average no. of user ratings:  31467.944444444445\n",
      "App Genre:  Sports  | Average no. of user ratings:  23008.898550724636\n",
      "App Genre:  Medical  | Average no. of user ratings:  612.0\n",
      "App Genre:  Book  | Average no. of user ratings:  39758.5\n",
      "App Genre:  Weather  | Average no. of user ratings:  52279.892857142855\n",
      "App Genre:  Catalogs  | Average no. of user ratings:  4004.0\n",
      "App Genre:  Entertainment  | Average no. of user ratings:  14029.830708661417\n",
      "App Genre:  Games  | Average no. of user ratings:  22788.6696905016\n",
      "\n",
      "Genre with the highest average user ratings:  Navigation\n",
      "Average user ratings:  86090.33333333333\n"
     ]
    }
   ],
   "source": [
    "ios_genre_table = freq_table(ios_free, -5)\n",
    "app_genre_max = 0\n",
    "app_genre_max_avg = 0\n",
    "app_gen = \"\"\n",
    "for genre in ios_genre_table:\n",
    "    user_total = 0\n",
    "    genre_total = 0\n",
    "    for row in ios_free:\n",
    "        app_genre = row[-5]\n",
    "        if app_genre == genre:\n",
    "            user = float(row[5])\n",
    "            user_total += user\n",
    "            genre_total += 1\n",
    "            temp = user_total/genre_total\n",
    "    \n",
    "    if(temp > app_genre_max_avg):\n",
    "        app_genre_max_avg = temp\n",
    "        app_gen = genre\n",
    "        \n",
    "        \n",
    "    avg_user_total = user_total/genre_total\n",
    "    print('App Genre: ',genre, ' | Average no. of user ratings: ',avg_user_total)\n",
    "    \n",
    "print(\"\\nGenre with the highest average user ratings: \",app_gen)\n",
    "print('Average user ratings: ',app_genre_max_avg)"
   ]
  },
  {
   "cell_type": "markdown",
   "metadata": {},
   "source": [
    "## Part 2 - Google Play Store \n",
    "Google Play store apps are more distributed between applications designed to have fun and practical apps that aid in day to day life.\n",
    "\n",
    "To further our analysis we look at the most popular apps in each category(category as a variable was more truncated compared to genres). This should give us a more detailed idea about the preferences of users."
   ]
  },
  {
   "cell_type": "code",
   "execution_count": 20,
   "metadata": {
    "collapsed": false
   },
   "outputs": [
    {
     "name": "stdout",
     "output_type": "stream",
     "text": [
      "App Category:  ENTERTAINMENT  | Average no. of user installs:  11640705.88235294\n",
      "App Category:  BOOKS_AND_REFERENCE  | Average no. of user installs:  8767811.894736841\n",
      "App Category:  WEATHER  | Average no. of user installs:  5074486.197183099\n",
      "App Category:  PHOTOGRAPHY  | Average no. of user installs:  17840110.40229885\n",
      "App Category:  FOOD_AND_DRINK  | Average no. of user installs:  1924897.7363636363\n",
      "App Category:  HOUSE_AND_HOME  | Average no. of user installs:  1331540.5616438356\n",
      "App Category:  HEALTH_AND_FITNESS  | Average no. of user installs:  4188821.9853479853\n",
      "App Category:  MEDICAL  | Average no. of user installs:  120550.61980830671\n",
      "App Category:  EDUCATION  | Average no. of user installs:  1833495.145631068\n",
      "App Category:  FINANCE  | Average no. of user installs:  1387692.475609756\n",
      "App Category:  SPORTS  | Average no. of user installs:  3638640.1428571427\n",
      "App Category:  SHOPPING  | Average no. of user installs:  7036877.311557789\n",
      "App Category:  COMICS  | Average no. of user installs:  817657.2727272727\n",
      "App Category:  PERSONALIZATION  | Average no. of user installs:  5201482.6122448975\n",
      "App Category:  NEWS_AND_MAGAZINES  | Average no. of user installs:  9549178.467741935\n",
      "App Category:  AUTO_AND_VEHICLES  | Average no. of user installs:  647317.8170731707\n",
      "App Category:  FAMILY  | Average no. of user installs:  3695641.8198090694\n",
      "App Category:  DATING  | Average no. of user installs:  854028.8303030303\n",
      "App Category:  SOCIAL  | Average no. of user installs:  23253652.127118643\n",
      "App Category:  TRAVEL_AND_LOCAL  | Average no. of user installs:  13984077.710144928\n",
      "App Category:  COMMUNICATION  | Average no. of user installs:  38456119.167247385\n",
      "App Category:  GAME  | Average no. of user installs:  15588015.603248259\n",
      "App Category:  LIBRARIES_AND_DEMO  | Average no. of user installs:  638503.734939759\n",
      "App Category:  LIFESTYLE  | Average no. of user installs:  1437816.2687861272\n",
      "App Category:  BUSINESS  | Average no. of user installs:  1712290.1474201474\n",
      "App Category:  VIDEO_PLAYERS  | Average no. of user installs:  24727872.452830188\n",
      "App Category:  BEAUTY  | Average no. of user installs:  513151.88679245283\n",
      "App Category:  TOOLS  | Average no. of user installs:  10801391.298666667\n",
      "App Category:  MAPS_AND_NAVIGATION  | Average no. of user installs:  4056941.7741935486\n",
      "App Category:  EVENTS  | Average no. of user installs:  253542.22222222222\n",
      "App Category:  ART_AND_DESIGN  | Average no. of user installs:  1986335.0877192982\n",
      "App Category:  PRODUCTIVITY  | Average no. of user installs:  16787331.344927534\n",
      "App Category:  PARENTING  | Average no. of user installs:  542603.6206896552\n",
      "\n",
      "Category with the highest average user installs:  COMMUNICATION\n",
      "Average no. of user intalls:  38456119.167247385\n"
     ]
    }
   ],
   "source": [
    "play_genre_table = freq_table(play_free, 1)\n",
    "\n",
    "app_genre_play_avg = 0\n",
    "app_gen_play = \"\"\n",
    "for genre in play_genre_table:\n",
    "    user_total = 0\n",
    "    genre_total = 0\n",
    "    for row in play_free:\n",
    "        app_genre = row[1]\n",
    "        if app_genre == genre:\n",
    "            user = row[5]\n",
    "            user = user.replace(',', '')\n",
    "            user = user.replace('+', '')\n",
    "            user_float = float(user)\n",
    "            user_total += user_float\n",
    "            genre_total += 1\n",
    "            temp = user_total/genre_total\n",
    "    \n",
    "    if(temp > app_genre_play_avg):\n",
    "        app_genre_play_avg = temp\n",
    "        app_gen_play = genre\n",
    "        \n",
    "        \n",
    "    avg_user_total = user_total/genre_total\n",
    "    print('App Category: ',genre, ' | Average no. of user installs: ',avg_user_total)\n",
    "    \n",
    "print(\"\\nCategory with the highest average user installs: \",app_gen_play)\n",
    "print('Average no. of user intalls: ',app_genre_play_avg)"
   ]
  },
  {
   "cell_type": "markdown",
   "metadata": {},
   "source": [
    "# Post result analysis\n",
    "\n",
    "* With a more detailed look at the free and english only app market for both iOS and Android devices, we can see that certain genres/categories dominate the market.\n",
    "* Some of the ratings and installs numbers are skewed due to the presence of highly popular apps such as WhatsApp, Messanger, Gmail, Google Maps, Instagram etc.\n",
    "* Since there is essentially no singular right answer to the question posed as to which direction a new app to be developed should take, we can pick and choose a genre/category that holds promise between both app markets.\n",
    "* We could even consider blending together 2 genres/categories to design and develop an app that can be used to entice new users to download and use them. Since, games and entertainment were a popular genre/category across both markets, an appropriate example would be releasing a productivty app that uses and involves gamification principles to improve user lifestyle, we could even design an app that is directed at children to encourage them to read more books using gamification"
   ]
  }
 ],
 "metadata": {
  "kernelspec": {
   "display_name": "Python 3",
   "language": "python",
   "name": "python3"
  },
  "language_info": {
   "codemirror_mode": {
    "name": "ipython",
    "version": 3
   },
   "file_extension": ".py",
   "mimetype": "text/x-python",
   "name": "python",
   "nbconvert_exporter": "python",
   "pygments_lexer": "ipython3",
   "version": "3.4.3"
  }
 },
 "nbformat": 4,
 "nbformat_minor": 2
}
